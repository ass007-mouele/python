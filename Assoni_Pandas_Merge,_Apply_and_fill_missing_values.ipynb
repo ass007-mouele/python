{
  "nbformat": 4,
  "nbformat_minor": 0,
  "metadata": {
    "colab": {
      "name": "Assoni_Pandas Merge, Apply and fill missing values.ipynb",
      "provenance": [],
      "collapsed_sections": [
        "4uyBORXD7SGL"
      ],
      "include_colab_link": true
    },
    "kernelspec": {
      "name": "python3",
      "display_name": "Python 3"
    }
  },
  "cells": [
    {
      "cell_type": "markdown",
      "metadata": {
        "id": "view-in-github",
        "colab_type": "text"
      },
      "source": [
        "<a href=\"https://colab.research.google.com/github/ass007-mouele/python/blob/master/Assoni_Pandas_Merge%2C_Apply_and_fill_missing_values.ipynb\" target=\"_parent\"><img src=\"https://colab.research.google.com/assets/colab-badge.svg\" alt=\"Open In Colab\"/></a>"
      ]
    },
    {
      "cell_type": "markdown",
      "metadata": {
        "id": "qXQwzrfmw_Uf",
        "colab_type": "text"
      },
      "source": [
        "# Execute the code below"
      ]
    },
    {
      "cell_type": "code",
      "metadata": {
        "id": "3lIRxl5vNZtI",
        "colab_type": "code",
        "colab": {}
      },
      "source": [
        "import pandas as pd\n",
        "import numpy as np\n",
        "import matplotlib.pyplot as plt\n",
        "\n",
        "link = \"https://raw.githubusercontent.com/murpi/wilddata/master/quests/weather2019.csv\"\n",
        "df_weather = pd.read_csv(link)"
      ],
      "execution_count": 0,
      "outputs": []
    },
    {
      "cell_type": "markdown",
      "metadata": {
        "id": "YT8V5rYmxFPp",
        "colab_type": "text"
      },
      "source": [
        "## You have now a DataFrame with lots of weather data"
      ]
    },
    {
      "cell_type": "code",
      "metadata": {
        "id": "KoUPLmHxz1us",
        "colab_type": "code",
        "outputId": "0e0cee07-6252-4dbb-ad0f-566eb101a84c",
        "colab": {
          "base_uri": "https://localhost:8080/",
          "height": 304
        }
      },
      "source": [
        "df_weather.head()"
      ],
      "execution_count": 0,
      "outputs": [
        {
          "output_type": "execute_result",
          "data": {
            "text/html": [
              "<div>\n",
              "<style scoped>\n",
              "    .dataframe tbody tr th:only-of-type {\n",
              "        vertical-align: middle;\n",
              "    }\n",
              "\n",
              "    .dataframe tbody tr th {\n",
              "        vertical-align: top;\n",
              "    }\n",
              "\n",
              "    .dataframe thead th {\n",
              "        text-align: right;\n",
              "    }\n",
              "</style>\n",
              "<table border=\"1\" class=\"dataframe\">\n",
              "  <thead>\n",
              "    <tr style=\"text-align: right;\">\n",
              "      <th></th>\n",
              "      <th>DATE</th>\n",
              "      <th>MAX_TEMPERATURE_C</th>\n",
              "      <th>MIN_TEMPERATURE_C</th>\n",
              "      <th>WINDSPEED_MAX_KMH</th>\n",
              "      <th>TEMPERATURE_MORNING_C</th>\n",
              "      <th>TEMPERATURE_NOON_C</th>\n",
              "      <th>TEMPERATURE_EVENING_C</th>\n",
              "      <th>PRECIP_TOTAL_DAY_MM</th>\n",
              "      <th>HUMIDITY_MAX_PERCENT</th>\n",
              "      <th>VISIBILITY_AVG_KM</th>\n",
              "      <th>PRESSURE_MAX_MB</th>\n",
              "      <th>CLOUDCOVER_AVG_PERCENT</th>\n",
              "      <th>HEATINDEX_MAX_C</th>\n",
              "      <th>DEWPOINT_MAX_C</th>\n",
              "      <th>WINDTEMP_MAX_C</th>\n",
              "      <th>WEATHER_CODE_MORNING</th>\n",
              "      <th>WEATHER_CODE_NOON</th>\n",
              "      <th>WEATHER_CODE_EVENING</th>\n",
              "      <th>TOTAL_SNOW_MM</th>\n",
              "      <th>UV_INDEX</th>\n",
              "      <th>SUNHOUR</th>\n",
              "      <th>OPINION</th>\n",
              "      <th>MONTH</th>\n",
              "      <th>DAY</th>\n",
              "    </tr>\n",
              "  </thead>\n",
              "  <tbody>\n",
              "    <tr>\n",
              "      <th>0</th>\n",
              "      <td>2019-01-01</td>\n",
              "      <td>9</td>\n",
              "      <td>4</td>\n",
              "      <td>10</td>\n",
              "      <td>4</td>\n",
              "      <td>7</td>\n",
              "      <td>8</td>\n",
              "      <td>0.2</td>\n",
              "      <td>94</td>\n",
              "      <td>9.0</td>\n",
              "      <td>1037</td>\n",
              "      <td>62.250</td>\n",
              "      <td>9</td>\n",
              "      <td>6</td>\n",
              "      <td>3</td>\n",
              "      <td>116</td>\n",
              "      <td>143</td>\n",
              "      <td>176</td>\n",
              "      <td>0</td>\n",
              "      <td>1</td>\n",
              "      <td>5.1</td>\n",
              "      <td>very bad</td>\n",
              "      <td>1</td>\n",
              "      <td>1</td>\n",
              "    </tr>\n",
              "    <tr>\n",
              "      <th>1</th>\n",
              "      <td>2019-01-02</td>\n",
              "      <td>8</td>\n",
              "      <td>5</td>\n",
              "      <td>18</td>\n",
              "      <td>7</td>\n",
              "      <td>7</td>\n",
              "      <td>5</td>\n",
              "      <td>0.0</td>\n",
              "      <td>90</td>\n",
              "      <td>9.0</td>\n",
              "      <td>1040</td>\n",
              "      <td>58.125</td>\n",
              "      <td>8</td>\n",
              "      <td>6</td>\n",
              "      <td>3</td>\n",
              "      <td>119</td>\n",
              "      <td>116</td>\n",
              "      <td>116</td>\n",
              "      <td>0</td>\n",
              "      <td>1</td>\n",
              "      <td>8.7</td>\n",
              "      <td>very bad</td>\n",
              "      <td>1</td>\n",
              "      <td>2</td>\n",
              "    </tr>\n",
              "    <tr>\n",
              "      <th>2</th>\n",
              "      <td>2019-01-03</td>\n",
              "      <td>6</td>\n",
              "      <td>0</td>\n",
              "      <td>18</td>\n",
              "      <td>0</td>\n",
              "      <td>4</td>\n",
              "      <td>3</td>\n",
              "      <td>0.0</td>\n",
              "      <td>88</td>\n",
              "      <td>10.0</td>\n",
              "      <td>1040</td>\n",
              "      <td>37.000</td>\n",
              "      <td>6</td>\n",
              "      <td>1</td>\n",
              "      <td>-4</td>\n",
              "      <td>116</td>\n",
              "      <td>116</td>\n",
              "      <td>116</td>\n",
              "      <td>0</td>\n",
              "      <td>1</td>\n",
              "      <td>8.7</td>\n",
              "      <td>very bad</td>\n",
              "      <td>1</td>\n",
              "      <td>3</td>\n",
              "    </tr>\n",
              "    <tr>\n",
              "      <th>3</th>\n",
              "      <td>2019-01-04</td>\n",
              "      <td>5</td>\n",
              "      <td>-1</td>\n",
              "      <td>15</td>\n",
              "      <td>-1</td>\n",
              "      <td>4</td>\n",
              "      <td>3</td>\n",
              "      <td>0.0</td>\n",
              "      <td>91</td>\n",
              "      <td>10.0</td>\n",
              "      <td>1040</td>\n",
              "      <td>42.625</td>\n",
              "      <td>5</td>\n",
              "      <td>1</td>\n",
              "      <td>-4</td>\n",
              "      <td>116</td>\n",
              "      <td>116</td>\n",
              "      <td>122</td>\n",
              "      <td>0</td>\n",
              "      <td>1</td>\n",
              "      <td>5.1</td>\n",
              "      <td>very bad</td>\n",
              "      <td>1</td>\n",
              "      <td>4</td>\n",
              "    </tr>\n",
              "    <tr>\n",
              "      <th>4</th>\n",
              "      <td>2019-01-05</td>\n",
              "      <td>6</td>\n",
              "      <td>-1</td>\n",
              "      <td>8</td>\n",
              "      <td>-1</td>\n",
              "      <td>4</td>\n",
              "      <td>3</td>\n",
              "      <td>0.0</td>\n",
              "      <td>91</td>\n",
              "      <td>8.0</td>\n",
              "      <td>1040</td>\n",
              "      <td>17.250</td>\n",
              "      <td>6</td>\n",
              "      <td>2</td>\n",
              "      <td>-2</td>\n",
              "      <td>143</td>\n",
              "      <td>116</td>\n",
              "      <td>116</td>\n",
              "      <td>0</td>\n",
              "      <td>1</td>\n",
              "      <td>8.7</td>\n",
              "      <td>very bad</td>\n",
              "      <td>1</td>\n",
              "      <td>5</td>\n",
              "    </tr>\n",
              "  </tbody>\n",
              "</table>\n",
              "</div>"
            ],
            "text/plain": [
              "         DATE  MAX_TEMPERATURE_C  MIN_TEMPERATURE_C  ...   OPINION  MONTH  DAY\n",
              "0  2019-01-01                  9                  4  ...  very bad      1    1\n",
              "1  2019-01-02                  8                  5  ...  very bad      1    2\n",
              "2  2019-01-03                  6                  0  ...  very bad      1    3\n",
              "3  2019-01-04                  5                 -1  ...  very bad      1    4\n",
              "4  2019-01-05                  6                 -1  ...  very bad      1    5\n",
              "\n",
              "[5 rows x 24 columns]"
            ]
          },
          "metadata": {
            "tags": []
          },
          "execution_count": 414
        }
      ]
    },
    {
      "cell_type": "markdown",
      "metadata": {
        "id": "LDcCOwCSxQyZ",
        "colab_type": "text"
      },
      "source": [
        "# Now, complete the following tasks :\n",
        "# Let's go in the deep !"
      ]
    },
    {
      "cell_type": "markdown",
      "metadata": {
        "id": "tqkE-0r_rnGq",
        "colab_type": "text"
      },
      "source": [
        "## Merge\n",
        "OK, you know very well the previous dataset. Now, you want more, much more. Another year for example ?\n",
        "\n",
        "But it's too bad. The year 2018 is not in the good  shape. There are 2 files :\n",
        "- The main file with Temperature, etc...\n",
        "- The opinion file, with especially the Opinion\n",
        "\n",
        "The goal is [to merge](https://pandas.pydata.org/pandas-docs/stable/reference/api/pandas.DataFrame.merge.html) both files in one DataFrame called **df2018**. It seems both files have a date column with the same format (but not the same name). \n",
        "\n",
        "Think about checking if both datasets have the same length. If they don't, what kind of merge do you have to do to keep each date of the main dataset ? Then apply this specific merge. And finally drop the duplicate date column to clean your dataframe."
      ]
    },
    {
      "cell_type": "code",
      "metadata": {
        "id": "WbfmDeaZmny4",
        "colab_type": "code",
        "outputId": "39b55320-bd6d-46f4-8fbe-2c18be13b3f9",
        "colab": {
          "base_uri": "https://localhost:8080/",
          "height": 269
        }
      },
      "source": [
        "link_main = \"https://raw.githubusercontent.com/murpi/wilddata/master/quests/weather_main_2018.csv\"\n",
        "link_opinion = \"https://raw.githubusercontent.com/murpi/wilddata/master/quests/weather_opinion_2018.csv\"\n",
        "df_main = pd.read_csv(link_main)\n",
        "df_opinion = pd.read_csv(link_opinion)\n",
        "print(df_main.head())\n",
        "print(df_opinion.head())"
      ],
      "execution_count": 0,
      "outputs": [
        {
          "output_type": "stream",
          "text": [
            "         DATE  MAX_TEMPERATURE_C  ...  DEWPOINT_MAX_C  WINDTEMP_MAX_C\n",
            "0  2018-01-01                 12  ...               8               7\n",
            "1  2018-01-02                 13  ...              12               6\n",
            "2  2018-01-03                 15  ...              13               7\n",
            "3  2018-01-04                 14  ...              12              10\n",
            "4  2018-01-05                 12  ...              10               7\n",
            "\n",
            "[5 rows x 15 columns]\n",
            "         date  WEATHER_CODE_EVENING  TOTAL_SNOW_MM  UV_INDEX  SUNHOUR OPINION\n",
            "0  2018-01-01                   113              0         3      5.1     bad\n",
            "1  2018-03-12                   119              0         2      8.8     bad\n",
            "2  2018-03-09                   116              0         3     10.2     bad\n",
            "3  2018-10-07                   122              0         1      5.6     bad\n",
            "4  2018-06-18                   119              0         1     12.9     bad\n"
          ],
          "name": "stdout"
        }
      ]
    },
    {
      "cell_type": "code",
      "metadata": {
        "id": "4Qy062tcw3c0",
        "colab_type": "code",
        "outputId": "0ed19beb-c408-4b29-e789-c3a02b35e208",
        "colab": {
          "base_uri": "https://localhost:8080/",
          "height": 598
        }
      },
      "source": [
        "# Your code here :\n",
        "#df2018 = pd.concat([df_main,df_opinion], axis = 1)\n",
        "len(df_main)\n",
        "len(df_opinion)\n",
        "df2018=pd.merge(df_main, df_opinion, how = 'left',left_on = ['DATE'], right_on = ['date'])\n",
        "df2018.drop(columns='date',axis=1,inplace=True)\n",
        "df2018"
      ],
      "execution_count": 0,
      "outputs": [
        {
          "output_type": "execute_result",
          "data": {
            "text/html": [
              "<div>\n",
              "<style scoped>\n",
              "    .dataframe tbody tr th:only-of-type {\n",
              "        vertical-align: middle;\n",
              "    }\n",
              "\n",
              "    .dataframe tbody tr th {\n",
              "        vertical-align: top;\n",
              "    }\n",
              "\n",
              "    .dataframe thead th {\n",
              "        text-align: right;\n",
              "    }\n",
              "</style>\n",
              "<table border=\"1\" class=\"dataframe\">\n",
              "  <thead>\n",
              "    <tr style=\"text-align: right;\">\n",
              "      <th></th>\n",
              "      <th>DATE</th>\n",
              "      <th>MAX_TEMPERATURE_C</th>\n",
              "      <th>MIN_TEMPERATURE_C</th>\n",
              "      <th>WINDSPEED_MAX_KMH</th>\n",
              "      <th>TEMPERATURE_MORNING_C</th>\n",
              "      <th>TEMPERATURE_NOON_C</th>\n",
              "      <th>TEMPERATURE_EVENING_C</th>\n",
              "      <th>PRECIP_TOTAL_DAY_MM</th>\n",
              "      <th>HUMIDITY_MAX_PERCENT</th>\n",
              "      <th>VISIBILITY_AVG_KM</th>\n",
              "      <th>PRESSURE_MAX_MB</th>\n",
              "      <th>CLOUDCOVER_AVG_PERCENT</th>\n",
              "      <th>HEATINDEX_MAX_C</th>\n",
              "      <th>DEWPOINT_MAX_C</th>\n",
              "      <th>WINDTEMP_MAX_C</th>\n",
              "      <th>WEATHER_CODE_EVENING</th>\n",
              "      <th>TOTAL_SNOW_MM</th>\n",
              "      <th>UV_INDEX</th>\n",
              "      <th>SUNHOUR</th>\n",
              "      <th>OPINION</th>\n",
              "    </tr>\n",
              "  </thead>\n",
              "  <tbody>\n",
              "    <tr>\n",
              "      <th>0</th>\n",
              "      <td>2018-01-01</td>\n",
              "      <td>12</td>\n",
              "      <td>8</td>\n",
              "      <td>61</td>\n",
              "      <td>9</td>\n",
              "      <td>11</td>\n",
              "      <td>8</td>\n",
              "      <td>8.9</td>\n",
              "      <td>79</td>\n",
              "      <td>9.500</td>\n",
              "      <td>1018</td>\n",
              "      <td>41.750</td>\n",
              "      <td>12</td>\n",
              "      <td>8</td>\n",
              "      <td>7</td>\n",
              "      <td>113.0</td>\n",
              "      <td>0.0</td>\n",
              "      <td>3.0</td>\n",
              "      <td>5.1</td>\n",
              "      <td>bad</td>\n",
              "    </tr>\n",
              "    <tr>\n",
              "      <th>1</th>\n",
              "      <td>2018-01-02</td>\n",
              "      <td>13</td>\n",
              "      <td>6</td>\n",
              "      <td>26</td>\n",
              "      <td>8</td>\n",
              "      <td>12</td>\n",
              "      <td>13</td>\n",
              "      <td>0.6</td>\n",
              "      <td>96</td>\n",
              "      <td>9.000</td>\n",
              "      <td>1020</td>\n",
              "      <td>87.875</td>\n",
              "      <td>13</td>\n",
              "      <td>12</td>\n",
              "      <td>6</td>\n",
              "      <td>122.0</td>\n",
              "      <td>0.0</td>\n",
              "      <td>3.0</td>\n",
              "      <td>3.3</td>\n",
              "      <td>bad</td>\n",
              "    </tr>\n",
              "    <tr>\n",
              "      <th>2</th>\n",
              "      <td>2018-01-03</td>\n",
              "      <td>15</td>\n",
              "      <td>10</td>\n",
              "      <td>40</td>\n",
              "      <td>11</td>\n",
              "      <td>12</td>\n",
              "      <td>10</td>\n",
              "      <td>5.5</td>\n",
              "      <td>82</td>\n",
              "      <td>8.500</td>\n",
              "      <td>1017</td>\n",
              "      <td>91.500</td>\n",
              "      <td>15</td>\n",
              "      <td>13</td>\n",
              "      <td>7</td>\n",
              "      <td>122.0</td>\n",
              "      <td>0.0</td>\n",
              "      <td>3.0</td>\n",
              "      <td>3.3</td>\n",
              "      <td>bad</td>\n",
              "    </tr>\n",
              "    <tr>\n",
              "      <th>3</th>\n",
              "      <td>2018-01-04</td>\n",
              "      <td>14</td>\n",
              "      <td>11</td>\n",
              "      <td>45</td>\n",
              "      <td>14</td>\n",
              "      <td>14</td>\n",
              "      <td>11</td>\n",
              "      <td>0.0</td>\n",
              "      <td>89</td>\n",
              "      <td>10.000</td>\n",
              "      <td>1011</td>\n",
              "      <td>90.125</td>\n",
              "      <td>14</td>\n",
              "      <td>12</td>\n",
              "      <td>10</td>\n",
              "      <td>116.0</td>\n",
              "      <td>0.0</td>\n",
              "      <td>3.0</td>\n",
              "      <td>3.3</td>\n",
              "      <td>bad</td>\n",
              "    </tr>\n",
              "    <tr>\n",
              "      <th>4</th>\n",
              "      <td>2018-01-05</td>\n",
              "      <td>12</td>\n",
              "      <td>7</td>\n",
              "      <td>21</td>\n",
              "      <td>10</td>\n",
              "      <td>11</td>\n",
              "      <td>8</td>\n",
              "      <td>1.5</td>\n",
              "      <td>85</td>\n",
              "      <td>9.875</td>\n",
              "      <td>1005</td>\n",
              "      <td>62.375</td>\n",
              "      <td>12</td>\n",
              "      <td>10</td>\n",
              "      <td>7</td>\n",
              "      <td>116.0</td>\n",
              "      <td>0.0</td>\n",
              "      <td>3.0</td>\n",
              "      <td>6.9</td>\n",
              "      <td>bad</td>\n",
              "    </tr>\n",
              "    <tr>\n",
              "      <th>...</th>\n",
              "      <td>...</td>\n",
              "      <td>...</td>\n",
              "      <td>...</td>\n",
              "      <td>...</td>\n",
              "      <td>...</td>\n",
              "      <td>...</td>\n",
              "      <td>...</td>\n",
              "      <td>...</td>\n",
              "      <td>...</td>\n",
              "      <td>...</td>\n",
              "      <td>...</td>\n",
              "      <td>...</td>\n",
              "      <td>...</td>\n",
              "      <td>...</td>\n",
              "      <td>...</td>\n",
              "      <td>...</td>\n",
              "      <td>...</td>\n",
              "      <td>...</td>\n",
              "      <td>...</td>\n",
              "      <td>...</td>\n",
              "    </tr>\n",
              "    <tr>\n",
              "      <th>360</th>\n",
              "      <td>2018-12-27</td>\n",
              "      <td>7</td>\n",
              "      <td>2</td>\n",
              "      <td>6</td>\n",
              "      <td>2</td>\n",
              "      <td>6</td>\n",
              "      <td>5</td>\n",
              "      <td>0.0</td>\n",
              "      <td>85</td>\n",
              "      <td>10.000</td>\n",
              "      <td>1027</td>\n",
              "      <td>30.750</td>\n",
              "      <td>8</td>\n",
              "      <td>6</td>\n",
              "      <td>3</td>\n",
              "      <td>119.0</td>\n",
              "      <td>0.0</td>\n",
              "      <td>1.0</td>\n",
              "      <td>8.7</td>\n",
              "      <td>very bad</td>\n",
              "    </tr>\n",
              "    <tr>\n",
              "      <th>361</th>\n",
              "      <td>2018-12-28</td>\n",
              "      <td>7</td>\n",
              "      <td>2</td>\n",
              "      <td>8</td>\n",
              "      <td>2</td>\n",
              "      <td>7</td>\n",
              "      <td>3</td>\n",
              "      <td>0.0</td>\n",
              "      <td>89</td>\n",
              "      <td>8.000</td>\n",
              "      <td>1035</td>\n",
              "      <td>18.750</td>\n",
              "      <td>8</td>\n",
              "      <td>4</td>\n",
              "      <td>4</td>\n",
              "      <td>113.0</td>\n",
              "      <td>0.0</td>\n",
              "      <td>1.0</td>\n",
              "      <td>8.7</td>\n",
              "      <td>very bad</td>\n",
              "    </tr>\n",
              "    <tr>\n",
              "      <th>362</th>\n",
              "      <td>2018-12-29</td>\n",
              "      <td>7</td>\n",
              "      <td>1</td>\n",
              "      <td>6</td>\n",
              "      <td>1</td>\n",
              "      <td>6</td>\n",
              "      <td>4</td>\n",
              "      <td>0.0</td>\n",
              "      <td>94</td>\n",
              "      <td>7.000</td>\n",
              "      <td>1038</td>\n",
              "      <td>33.000</td>\n",
              "      <td>8</td>\n",
              "      <td>5</td>\n",
              "      <td>1</td>\n",
              "      <td>116.0</td>\n",
              "      <td>0.0</td>\n",
              "      <td>1.0</td>\n",
              "      <td>8.7</td>\n",
              "      <td>very bad</td>\n",
              "    </tr>\n",
              "    <tr>\n",
              "      <th>363</th>\n",
              "      <td>2018-12-30</td>\n",
              "      <td>9</td>\n",
              "      <td>4</td>\n",
              "      <td>6</td>\n",
              "      <td>5</td>\n",
              "      <td>9</td>\n",
              "      <td>8</td>\n",
              "      <td>0.1</td>\n",
              "      <td>95</td>\n",
              "      <td>6.000</td>\n",
              "      <td>1038</td>\n",
              "      <td>70.375</td>\n",
              "      <td>10</td>\n",
              "      <td>9</td>\n",
              "      <td>7</td>\n",
              "      <td>143.0</td>\n",
              "      <td>0.0</td>\n",
              "      <td>1.0</td>\n",
              "      <td>3.3</td>\n",
              "      <td>very bad</td>\n",
              "    </tr>\n",
              "    <tr>\n",
              "      <th>364</th>\n",
              "      <td>2018-12-31</td>\n",
              "      <td>9</td>\n",
              "      <td>5</td>\n",
              "      <td>10</td>\n",
              "      <td>5</td>\n",
              "      <td>9</td>\n",
              "      <td>6</td>\n",
              "      <td>0.0</td>\n",
              "      <td>95</td>\n",
              "      <td>6.000</td>\n",
              "      <td>1038</td>\n",
              "      <td>40.250</td>\n",
              "      <td>10</td>\n",
              "      <td>7</td>\n",
              "      <td>5</td>\n",
              "      <td>116.0</td>\n",
              "      <td>0.0</td>\n",
              "      <td>1.0</td>\n",
              "      <td>8.7</td>\n",
              "      <td>very bad</td>\n",
              "    </tr>\n",
              "  </tbody>\n",
              "</table>\n",
              "<p>365 rows × 20 columns</p>\n",
              "</div>"
            ],
            "text/plain": [
              "           DATE  MAX_TEMPERATURE_C  ...  SUNHOUR   OPINION\n",
              "0    2018-01-01                 12  ...      5.1       bad\n",
              "1    2018-01-02                 13  ...      3.3       bad\n",
              "2    2018-01-03                 15  ...      3.3       bad\n",
              "3    2018-01-04                 14  ...      3.3       bad\n",
              "4    2018-01-05                 12  ...      6.9       bad\n",
              "..          ...                ...  ...      ...       ...\n",
              "360  2018-12-27                  7  ...      8.7  very bad\n",
              "361  2018-12-28                  7  ...      8.7  very bad\n",
              "362  2018-12-29                  7  ...      8.7  very bad\n",
              "363  2018-12-30                  9  ...      3.3  very bad\n",
              "364  2018-12-31                  9  ...      8.7  very bad\n",
              "\n",
              "[365 rows x 20 columns]"
            ]
          },
          "metadata": {
            "tags": []
          },
          "execution_count": 416
        }
      ]
    },
    {
      "cell_type": "markdown",
      "metadata": {
        "id": "XhmGb7SJz9T7",
        "colab_type": "text"
      },
      "source": [
        "### Result"
      ]
    },
    {
      "cell_type": "markdown",
      "metadata": {
        "id": "QB62g1r_wzGa",
        "colab_type": "text"
      },
      "source": [
        "Your DataFrame **df2018** should now have 20 columns and 365 rows. If not, try again.\n",
        "\n",
        "**Ohhhh, there are some missing values, we have to fill them.**"
      ]
    },
    {
      "cell_type": "code",
      "metadata": {
        "id": "oQSMcwAGvCyL",
        "colab_type": "code",
        "outputId": "e1d5308b-90df-4a71-df24-99ebb1610237",
        "colab": {
          "base_uri": "https://localhost:8080/",
          "height": 583
        }
      },
      "source": [
        "print(\"My DataFrame shape is : \", df2018.shape, end = '\\n\\n\\n\\n')\n",
        "print('Which columns have missing values ?')\n",
        "print(df2018.info())\n"
      ],
      "execution_count": 0,
      "outputs": [
        {
          "output_type": "stream",
          "text": [
            "My DataFrame shape is :  (365, 20)\n",
            "\n",
            "\n",
            "\n",
            "Which columns have missing values ?\n",
            "<class 'pandas.core.frame.DataFrame'>\n",
            "Int64Index: 365 entries, 0 to 364\n",
            "Data columns (total 20 columns):\n",
            " #   Column                  Non-Null Count  Dtype  \n",
            "---  ------                  --------------  -----  \n",
            " 0   DATE                    365 non-null    object \n",
            " 1   MAX_TEMPERATURE_C       365 non-null    int64  \n",
            " 2   MIN_TEMPERATURE_C       365 non-null    int64  \n",
            " 3   WINDSPEED_MAX_KMH       365 non-null    int64  \n",
            " 4   TEMPERATURE_MORNING_C   365 non-null    int64  \n",
            " 5   TEMPERATURE_NOON_C      365 non-null    int64  \n",
            " 6   TEMPERATURE_EVENING_C   365 non-null    int64  \n",
            " 7   PRECIP_TOTAL_DAY_MM     365 non-null    float64\n",
            " 8   HUMIDITY_MAX_PERCENT    365 non-null    int64  \n",
            " 9   VISIBILITY_AVG_KM       365 non-null    float64\n",
            " 10  PRESSURE_MAX_MB         365 non-null    int64  \n",
            " 11  CLOUDCOVER_AVG_PERCENT  365 non-null    float64\n",
            " 12  HEATINDEX_MAX_C         365 non-null    int64  \n",
            " 13  DEWPOINT_MAX_C          365 non-null    int64  \n",
            " 14  WINDTEMP_MAX_C          365 non-null    int64  \n",
            " 15  WEATHER_CODE_EVENING    341 non-null    float64\n",
            " 16  TOTAL_SNOW_MM           341 non-null    float64\n",
            " 17  UV_INDEX                341 non-null    float64\n",
            " 18  SUNHOUR                 341 non-null    float64\n",
            " 19  OPINION                 341 non-null    object \n",
            "dtypes: float64(7), int64(11), object(2)\n",
            "memory usage: 59.9+ KB\n",
            "None\n"
          ],
          "name": "stdout"
        }
      ]
    },
    {
      "cell_type": "markdown",
      "metadata": {
        "id": "G8JuzY6wiXGP",
        "colab_type": "text"
      },
      "source": [
        "### Find the Dates of missing values.\n",
        "You can help you with the method .isna()"
      ]
    },
    {
      "cell_type": "code",
      "metadata": {
        "id": "k3aBVUumirL-",
        "colab_type": "code",
        "outputId": "48b37c2f-d37a-4002-9f81-0c7118e8ea51",
        "colab": {
          "base_uri": "https://localhost:8080/",
          "height": 451
        }
      },
      "source": [
        "# Your code here :\n",
        "#df2018.loc[df2018.isna()==True,\"DATE\"]\n",
        "#mask=df2018[1:]==df2018.isna()\n",
        "df2018.loc[df2018[\"WEATHER_CODE_EVENING\"].isna(),\"DATE\"]\n",
        "df2018.loc[df2018[\"TOTAL_SNOW_MM\"].isna(),\"DATE\"] \n",
        "df2018.loc[df2018[\"UV_INDEX\"].isna(),\"DATE\"]      \n",
        "df2018.loc[df2018[\"SUNHOUR\"].isna(),\"DATE\"] \n",
        "df2018.loc[df2018[\"OPINION\"].isna(),\"DATE\"]             "
      ],
      "execution_count": 0,
      "outputs": [
        {
          "output_type": "execute_result",
          "data": {
            "text/plain": [
              "18     2018-01-19\n",
              "31     2018-02-01\n",
              "66     2018-03-08\n",
              "100    2018-04-11\n",
              "118    2018-04-29\n",
              "143    2018-05-24\n",
              "152    2018-06-02\n",
              "163    2018-06-13\n",
              "165    2018-06-15\n",
              "175    2018-06-25\n",
              "184    2018-07-04\n",
              "191    2018-07-11\n",
              "194    2018-07-14\n",
              "197    2018-07-17\n",
              "204    2018-07-24\n",
              "220    2018-08-09\n",
              "225    2018-08-14\n",
              "234    2018-08-23\n",
              "266    2018-09-24\n",
              "317    2018-11-14\n",
              "321    2018-11-18\n",
              "325    2018-11-22\n",
              "346    2018-12-13\n",
              "349    2018-12-16\n",
              "Name: DATE, dtype: object"
            ]
          },
          "metadata": {
            "tags": []
          },
          "execution_count": 418
        }
      ]
    },
    {
      "cell_type": "markdown",
      "metadata": {
        "id": "4uyBORXD7SGL",
        "colab_type": "text"
      },
      "source": [
        "## Before filling missing values, you have to create a new axis \"flag\", to document and to remember which lines you modify."
      ]
    },
    {
      "cell_type": "code",
      "metadata": {
        "id": "zAPjwqRb673g",
        "colab_type": "code",
        "colab": {}
      },
      "source": [
        "df2018['flag'] = df2018['OPINION'].isna()"
      ],
      "execution_count": 0,
      "outputs": []
    },
    {
      "cell_type": "markdown",
      "metadata": {
        "id": "xV589xMUwi_y",
        "colab_type": "text"
      },
      "source": [
        "## Visualize and Fill the Na"
      ]
    },
    {
      "cell_type": "markdown",
      "metadata": {
        "id": "loj1tBax0WEO",
        "colab_type": "text"
      },
      "source": [
        "### First column : WEATHER_CODE_EVENING\n",
        "\n",
        "You have to visualize how are the well-filled data. Of course you know Matplotlib, and maybe, you know Seaborn and Plotly. But, did you know that Pandas integrate directly some parts of Matplotlib ? It's very useful, and don't need to import other libraries..."
      ]
    },
    {
      "cell_type": "markdown",
      "metadata": {
        "id": "0OfJmw2cFTqL",
        "colab_type": "text"
      },
      "source": [
        "#### Scatterplot directly with Pandas"
      ]
    },
    {
      "cell_type": "code",
      "metadata": {
        "id": "SjLKF6l6yzxs",
        "colab_type": "code",
        "outputId": "33997e9b-ef6e-4639-d1aa-356cc76038ca",
        "colab": {
          "base_uri": "https://localhost:8080/",
          "height": 333
        }
      },
      "source": [
        "import matplotlib.pyplot as plt\n",
        "\n",
        "# Draw a scatterplot with Date on X-axis and WEATHER_CODE_EVENING on Y-axis\n",
        "#df2018.plot.scatter( ) #Code to complete\n",
        "df2018.plot.scatter(x=\"DATE\",y=\"WEATHER_CODE_EVENING\")\n",
        "plt.show"
      ],
      "execution_count": 0,
      "outputs": [
        {
          "output_type": "stream",
          "text": [
            "'c' argument looks like a single numeric RGB or RGBA sequence, which should be avoided as value-mapping will have precedence in case its length matches with 'x' & 'y'.  Please use a 2-D array with a single row if you really want to specify the same RGB or RGBA value for all points.\n"
          ],
          "name": "stderr"
        },
        {
          "output_type": "execute_result",
          "data": {
            "text/plain": [
              "<function matplotlib.pyplot.show>"
            ]
          },
          "metadata": {
            "tags": []
          },
          "execution_count": 420
        },
        {
          "output_type": "display_data",
          "data": {
            "image/png": "[encoded data removed]",
            "text/plain": [
              "<Figure size 432x288 with 1 Axes>"
            ]
          },
          "metadata": {
            "tags": [],
            "needs_background": "light"
          }
        }
      ]
    },
    {
      "cell_type": "markdown",
      "metadata": {
        "id": "0gmFthwQFV43",
        "colab_type": "text"
      },
      "source": [
        "#### Boxplot directly with Pandas"
      ]
    },
    {
      "cell_type": "code",
      "metadata": {
        "id": "HNXtBQVC1OHM",
        "colab_type": "code",
        "outputId": "642f9411-c3d1-4fad-de2d-2881d22c06cc",
        "colab": {
          "base_uri": "https://localhost:8080/",
          "height": 303
        }
      },
      "source": [
        "# Find a way to draw directly with pandas a boxplot on the column WEATHER_CODE_EVENING\n",
        "df2018.boxplot(\"WEATHER_CODE_EVENING\")"
      ],
      "execution_count": 0,
      "outputs": [
        {
          "output_type": "execute_result",
          "data": {
            "text/plain": [
              "<matplotlib.axes._subplots.AxesSubplot at 0x7f4adaf16278>"
            ]
          },
          "metadata": {
            "tags": []
          },
          "execution_count": 421
        },
        {
          "output_type": "display_data",
          "data": {
            "image/png": "[encoded data removed]",
            "text/plain": [
              "<Figure size 432x288 with 1 Axes>"
            ]
          },
          "metadata": {
            "tags": [],
            "needs_background": "light"
          }
        }
      ]
    },
    {
      "cell_type": "markdown",
      "metadata": {
        "id": "WS1Qn73uFd2G",
        "colab_type": "text"
      },
      "source": [
        "#### Deciles"
      ]
    },
    {
      "cell_type": "code",
      "metadata": {
        "id": "ZSwhF8404BK6",
        "colab_type": "code",
        "outputId": "b3c3f2af-847e-4a26-8df2-f044c3df4f37",
        "colab": {
          "base_uri": "https://localhost:8080/",
          "height": 186
        }
      },
      "source": [
        "# Find a way to print the 9 deciles + min + max of the column WEATHER_CODE_EVENING with the quantile method of pandas and a loop\n",
        "compteur=0\n",
        "indice=0.1\n",
        "for i in range(9):\n",
        "   print(df2018[\"WEATHER_CODE_EVENING\"].quantile(indice))\n",
        "   indice=indice+0.1\n"
      ],
      "execution_count": 0,
      "outputs": [
        {
          "output_type": "stream",
          "text": [
            "113.0\n",
            "113.0\n",
            "113.0\n",
            "113.0\n",
            "116.0\n",
            "116.0\n",
            "119.0\n",
            "122.0\n",
            "122.0\n"
          ],
          "name": "stdout"
        }
      ]
    },
    {
      "cell_type": "markdown",
      "metadata": {
        "id": "QZKwDI4c5LFf",
        "colab_type": "text"
      },
      "source": [
        "#### Fill values\n",
        "OK it seems that the most of datas are between 113 and 122. Maybe, we could fill the missing values with Mean or Median, it's up to you to choose. So you need :\n",
        "- Calculate the mean or the median\n",
        "- Fill the missing values only for **WEATHER_CODE_EVENING** with the fillna() method \n",
        "When you're OK, remember tu use the *inplace=True* argument"
      ]
    },
    {
      "cell_type": "code",
      "metadata": {
        "id": "mUsfFo3z5yPA",
        "colab_type": "code",
        "colab": {}
      },
      "source": [
        "# Hop !\n",
        "df2018[\"WEATHER_CODE_EVENING\"].fillna(df2018[\"WEATHER_CODE_EVENING\"].mean(),inplace=True)\n"
      ],
      "execution_count": 0,
      "outputs": []
    },
    {
      "cell_type": "markdown",
      "metadata": {
        "id": "le_hQxxU8ZWL",
        "colab_type": "text"
      },
      "source": [
        "### Next columns : TOTAL_SNOW_MM and UV_INDEX\n",
        "\n",
        "We trust you to choose right values to fill for the both columns"
      ]
    },
    {
      "cell_type": "code",
      "metadata": {
        "id": "GIxOv06L8wSj",
        "colab_type": "code",
        "colab": {}
      },
      "source": [
        "# Your code here\n",
        "df2018[\"UV_INDEX\"].fillna(df2018[\"UV_INDEX\"].median(),inplace=True)\n",
        "df2018[\"TOTAL_SNOW_MM\"].fillna(df2018[\"TOTAL_SNOW_MM\"].median(),inplace=True)"
      ],
      "execution_count": 0,
      "outputs": []
    },
    {
      "cell_type": "markdown",
      "metadata": {
        "id": "7vesplgF8v5g",
        "colab_type": "text"
      },
      "source": [
        "### Next column : \n",
        "SUNHOUR"
      ]
    },
    {
      "cell_type": "code",
      "metadata": {
        "id": "ysILwt6X84bv",
        "colab_type": "code",
        "outputId": "f9138b8a-fcaa-4273-e196-a3db4c8dc4a4",
        "colab": {
          "base_uri": "https://localhost:8080/",
          "height": 425
        }
      },
      "source": [
        "import seaborn as sns\n",
        "# Draw a scatterplot with Date on X-axis and SUNHOUR on Y-axis\n",
        "plt.figure(figsize=(15,6))\n",
        "sns.scatterplot(x=df2018[\"DATE\"],y=df2018[\"SUNHOUR\"])\n"
      ],
      "execution_count": 0,
      "outputs": [
        {
          "output_type": "execute_result",
          "data": {
            "text/plain": [
              "<matplotlib.axes._subplots.AxesSubplot at 0x7f4ad4d98048>"
            ]
          },
          "metadata": {
            "tags": []
          },
          "execution_count": 425
        },
        {
          "output_type": "display_data",
          "data": {
            "image/png": "[encoded data removed]",
            "text/plain": [
              "<Figure size 1080x432 with 1 Axes>"
            ]
          },
          "metadata": {
            "tags": [],
            "needs_background": "light"
          }
        }
      ]
    },
    {
      "cell_type": "markdown",
      "metadata": {
        "id": "BWhXVf-o9O0N",
        "colab_type": "text"
      },
      "source": [
        "#### Propagation\n",
        "**It seems this is not a good idea to apply the same value all year long...**\n",
        "\n",
        "You could use the the *method = 'ffill' or 'bfill'* argument in fill_na() to propagate non-null values forward or backward."
      ]
    },
    {
      "cell_type": "code",
      "metadata": {
        "id": "Ox3IsoPc-mAE",
        "colab_type": "code",
        "colab": {}
      },
      "source": [
        "# Your code here\n",
        "df2018[\"SUNHOUR\"].fillna(method = 'ffill',inplace=True)\n",
        "df2018[\"OPINION\"].fillna('unknown',inplace=True)"
      ],
      "execution_count": 0,
      "outputs": []
    },
    {
      "cell_type": "markdown",
      "metadata": {
        "id": "11f1by-w-4u3",
        "colab_type": "text"
      },
      "source": [
        "### Column : OPINION\n",
        "For Opinion, we have not yet idea. So, we can write a new value 'unknown' in this column."
      ]
    },
    {
      "cell_type": "markdown",
      "metadata": {
        "id": "iEokSY6O-u-H",
        "colab_type": "text"
      },
      "source": [
        "## Now, each axis should have 365 non-null values."
      ]
    },
    {
      "cell_type": "code",
      "metadata": {
        "id": "1BioxU79956l",
        "colab_type": "code",
        "outputId": "f198f2b3-f327-4b01-c7d1-ee66348fc81e",
        "colab": {
          "base_uri": "https://localhost:8080/",
          "height": 500
        }
      },
      "source": [
        "df2018.info()"
      ],
      "execution_count": 0,
      "outputs": [
        {
          "output_type": "stream",
          "text": [
            "<class 'pandas.core.frame.DataFrame'>\n",
            "Int64Index: 365 entries, 0 to 364\n",
            "Data columns (total 21 columns):\n",
            " #   Column                  Non-Null Count  Dtype  \n",
            "---  ------                  --------------  -----  \n",
            " 0   DATE                    365 non-null    object \n",
            " 1   MAX_TEMPERATURE_C       365 non-null    int64  \n",
            " 2   MIN_TEMPERATURE_C       365 non-null    int64  \n",
            " 3   WINDSPEED_MAX_KMH       365 non-null    int64  \n",
            " 4   TEMPERATURE_MORNING_C   365 non-null    int64  \n",
            " 5   TEMPERATURE_NOON_C      365 non-null    int64  \n",
            " 6   TEMPERATURE_EVENING_C   365 non-null    int64  \n",
            " 7   PRECIP_TOTAL_DAY_MM     365 non-null    float64\n",
            " 8   HUMIDITY_MAX_PERCENT    365 non-null    int64  \n",
            " 9   VISIBILITY_AVG_KM       365 non-null    float64\n",
            " 10  PRESSURE_MAX_MB         365 non-null    int64  \n",
            " 11  CLOUDCOVER_AVG_PERCENT  365 non-null    float64\n",
            " 12  HEATINDEX_MAX_C         365 non-null    int64  \n",
            " 13  DEWPOINT_MAX_C          365 non-null    int64  \n",
            " 14  WINDTEMP_MAX_C          365 non-null    int64  \n",
            " 15  WEATHER_CODE_EVENING    365 non-null    float64\n",
            " 16  TOTAL_SNOW_MM           365 non-null    float64\n",
            " 17  UV_INDEX                365 non-null    float64\n",
            " 18  SUNHOUR                 365 non-null    float64\n",
            " 19  OPINION                 365 non-null    object \n",
            " 20  flag                    365 non-null    bool   \n",
            "dtypes: bool(1), float64(7), int64(11), object(2)\n",
            "memory usage: 60.2+ KB\n"
          ],
          "name": "stdout"
        }
      ]
    },
    {
      "cell_type": "markdown",
      "metadata": {
        "id": "BiXcI3AdJCJW",
        "colab_type": "text"
      },
      "source": [
        "## Visualize your modifications\n",
        "Draw 4 scatterplots with Date on X-axis, and each of the 4 modified columns on Y-axis :\n",
        "- The original datas will be in blue\n",
        "- The new data (your datas) in red\n",
        "\n",
        "It's the moment to use your \"flag\" column created at the beginning. It'll be easier in seaborn with \"hue\"."
      ]
    },
    {
      "cell_type": "code",
      "metadata": {
        "id": "0B2-rD6IGG50",
        "colab_type": "code",
        "outputId": "2cc041ea-ebb4-4c38-aadd-995ede933980",
        "colab": {
          "base_uri": "https://localhost:8080/",
          "height": 504
        }
      },
      "source": [
        "# Your code here\n",
        "f, axes = plt.subplots(4, 2, figsize=(15, 7))\n",
        "colors = [\"#FF0B04\", \"green\"]##4374B3\n",
        "# Set your custom color palette\n",
        "sns.set_palette(sns.color_palette(colors))\n",
        "sns.scatterplot(x=df2018['DATE'],y=df2018['WEATHER_CODE_EVENING'],ax=axes[0, 0],color='b',data=df2018)#,hue='OPINION')\n",
        "sns.scatterplot(x=df2018['DATE'],y=df2018['WEATHER_CODE_EVENING'],ax=axes[0, 1],data=df2018,hue='flag')\n",
        "sns.scatterplot(x=df2018['DATE'],y=df2018['TOTAL_SNOW_MM'],ax=axes[1, 0],color='b',data=df2018)\n",
        "sns.scatterplot(x=df2018['DATE'],y=df2018['TOTAL_SNOW_MM'],ax=axes[1, 1],data=df2018,hue='flag')\n",
        "sns.scatterplot(x=df2018[\"DATE\"],y=df2018['UV_INDEX'],ax=axes[2, 0],color='b',data=df2018)\n",
        "sns.scatterplot(x=df2018[\"DATE\"],y=df2018['UV_INDEX'],ax=axes[2, 1],data=df2018,hue='flag')\n",
        "sns.scatterplot(x=df2018[\"DATE\"],y=df2018['SUNHOUR'],ax=axes[3, 0],color='b',data=df2018)\n",
        "sns.scatterplot(x=df2018[\"DATE\"],y=df2018['SUNHOUR'],ax=axes[3, 1],data=df2018,hue='flag')\n"
      ],
      "execution_count": 0,
      "outputs": [
        {
          "output_type": "execute_result",
          "data": {
            "text/plain": [
              "<matplotlib.axes._subplots.AxesSubplot at 0x7f4ad651c5f8>"
            ]
          },
          "metadata": {
            "tags": []
          },
          "execution_count": 428
        },
        {
          "output_type": "display_data",
          "data": {
            "image/png": "[encoded data removed]",
            "text/plain": [
              "<Figure size 1080x504 with 8 Axes>"
            ]
          },
          "metadata": {
            "tags": [],
            "needs_background": "light"
          }
        }
      ]
    },
    {
      "cell_type": "markdown",
      "metadata": {
        "id": "8ddh5IPA_hwI",
        "colab_type": "text"
      },
      "source": [
        "# Apply and Lambda\n",
        "\n",
        "You know functions, but do you know lambda functions ? Let's try to apply this."
      ]
    },
    {
      "cell_type": "markdown",
      "metadata": {
        "id": "0fiMOhr4_xgH",
        "colab_type": "text"
      },
      "source": [
        "## MONTH\n",
        "We want to create a new column with Month.\n",
        "\n",
        "\"Apply\" allows you to apply a function to each of the cell values."
      ]
    },
    {
      "cell_type": "code",
      "metadata": {
        "id": "I81ISB9aADfp",
        "colab_type": "code",
        "outputId": "93937764-9eef-4414-9608-5bdabcf68fac",
        "colab": {
          "base_uri": "https://localhost:8080/",
          "height": 434
        }
      },
      "source": [
        "# Try to execute this code :\n",
        "print(df2018['MAX_TEMPERATURE_C'])\n",
        "print(df2018['MAX_TEMPERATURE_C'].apply(lambda x: x*10))\n",
        "# In lambda function, \"x\" represents the value of each cell. \n",
        "# So in the Max temperature columns, it's integers, so I can multiply it by 10 for example."
      ],
      "execution_count": 0,
      "outputs": [
        {
          "output_type": "stream",
          "text": [
            "0      12\n",
            "1      13\n",
            "2      15\n",
            "3      14\n",
            "4      12\n",
            "       ..\n",
            "360     7\n",
            "361     7\n",
            "362     7\n",
            "363     9\n",
            "364     9\n",
            "Name: MAX_TEMPERATURE_C, Length: 365, dtype: int64\n",
            "0      120\n",
            "1      130\n",
            "2      150\n",
            "3      140\n",
            "4      120\n",
            "      ... \n",
            "360     70\n",
            "361     70\n",
            "362     70\n",
            "363     90\n",
            "364     90\n",
            "Name: MAX_TEMPERATURE_C, Length: 365, dtype: int64\n"
          ],
          "name": "stdout"
        }
      ]
    },
    {
      "cell_type": "markdown",
      "metadata": {
        "id": "6odwVA0QA5I0",
        "colab_type": "text"
      },
      "source": [
        "### Create a column Month\n",
        "It's to you now. In an ideal world, we teach you how to convert date into a real date-format. But it's too early. So, you know how to play with characters strings :\n",
        "- Try to get only the 2 numbers of the month on a little character string\n",
        "- Apply this to the Date columns with a lambda function\n",
        "- Create a new column \"MONTH\" with that"
      ]
    },
    {
      "cell_type": "code",
      "metadata": {
        "id": "X0yJ0RHrA4z8",
        "colab_type": "code",
        "outputId": "ece74dc8-684f-4ffb-cea5-690f19f56519",
        "colab": {
          "base_uri": "https://localhost:8080/",
          "height": 236
        }
      },
      "source": [
        "chaine = '2018-05-01'\n",
        "chaine[5:7]\n",
        "df2018[\"MONTH\"]=df2018[\"DATE\"].apply(lambda x: x[5:7])\n",
        "df2018[\"MONTH\"]"
      ],
      "execution_count": 0,
      "outputs": [
        {
          "output_type": "execute_result",
          "data": {
            "text/plain": [
              "0      01\n",
              "1      01\n",
              "2      01\n",
              "3      01\n",
              "4      01\n",
              "       ..\n",
              "360    12\n",
              "361    12\n",
              "362    12\n",
              "363    12\n",
              "364    12\n",
              "Name: MONTH, Length: 365, dtype: object"
            ]
          },
          "metadata": {
            "tags": []
          },
          "execution_count": 430
        }
      ]
    },
    {
      "cell_type": "markdown",
      "metadata": {
        "id": "ZRem8BQrC_kX",
        "colab_type": "text"
      },
      "source": [
        "## DAY\n",
        "Do the same thing to create a new column \"DAY\""
      ]
    },
    {
      "cell_type": "code",
      "metadata": {
        "id": "4wM34qVjDLeR",
        "colab_type": "code",
        "outputId": "97360ef0-44f1-473b-bce7-5c495914d8d4",
        "colab": {
          "base_uri": "https://localhost:8080/",
          "height": 236
        }
      },
      "source": [
        "# Hop !\n",
        "df2018[\"DAY\"]=df2018[\"DATE\"].apply(lambda x: x[8:10])\n",
        "df2018[\"DAY\"]"
      ],
      "execution_count": 0,
      "outputs": [
        {
          "output_type": "execute_result",
          "data": {
            "text/plain": [
              "0      01\n",
              "1      02\n",
              "2      03\n",
              "3      04\n",
              "4      05\n",
              "       ..\n",
              "360    27\n",
              "361    28\n",
              "362    29\n",
              "363    30\n",
              "364    31\n",
              "Name: DAY, Length: 365, dtype: object"
            ]
          },
          "metadata": {
            "tags": []
          },
          "execution_count": 431
        }
      ]
    },
    {
      "cell_type": "markdown",
      "metadata": {
        "id": "BKtJyWLeDNvH",
        "colab_type": "text"
      },
      "source": [
        "# Concatenate 2 DataFrames\n",
        "Concatenate both DataFrames (your new 2018 & 2019 above) on the 0 axis. Your goal is to have a DataFrame with 25 columns and 730 rows (365*2 years).\n",
        "\n",
        "Why 25 columns ? There are 22 common columns, 1 dedicated column for 2018 (flag) and 2 dedicated columns for 2019.\n",
        "\n",
        "[Different ways to concatenate and merge](https://pandas.pydata.org/pandas-docs/stable/user_guide/merging.html)"
      ]
    },
    {
      "cell_type": "code",
      "metadata": {
        "id": "zKnw7y7AId0y",
        "colab_type": "code",
        "outputId": "465fe5c7-dd45-4398-8e20-55b3982bd020",
        "colab": {
          "base_uri": "https://localhost:8080/",
          "height": 566
        }
      },
      "source": [
        "# Hop !\n",
        "final=pd.concat([df_weather,df2018],axis=0)\n",
        "final.info()"
      ],
      "execution_count": 0,
      "outputs": [
        {
          "output_type": "stream",
          "text": [
            "<class 'pandas.core.frame.DataFrame'>\n",
            "Int64Index: 730 entries, 0 to 364\n",
            "Data columns (total 25 columns):\n",
            " #   Column                  Non-Null Count  Dtype  \n",
            "---  ------                  --------------  -----  \n",
            " 0   DATE                    730 non-null    object \n",
            " 1   MAX_TEMPERATURE_C       730 non-null    int64  \n",
            " 2   MIN_TEMPERATURE_C       730 non-null    int64  \n",
            " 3   WINDSPEED_MAX_KMH       730 non-null    int64  \n",
            " 4   TEMPERATURE_MORNING_C   730 non-null    int64  \n",
            " 5   TEMPERATURE_NOON_C      730 non-null    int64  \n",
            " 6   TEMPERATURE_EVENING_C   730 non-null    int64  \n",
            " 7   PRECIP_TOTAL_DAY_MM     730 non-null    float64\n",
            " 8   HUMIDITY_MAX_PERCENT    730 non-null    int64  \n",
            " 9   VISIBILITY_AVG_KM       730 non-null    float64\n",
            " 10  PRESSURE_MAX_MB         730 non-null    int64  \n",
            " 11  CLOUDCOVER_AVG_PERCENT  730 non-null    float64\n",
            " 12  HEATINDEX_MAX_C         730 non-null    int64  \n",
            " 13  DEWPOINT_MAX_C          730 non-null    int64  \n",
            " 14  WINDTEMP_MAX_C          730 non-null    int64  \n",
            " 15  WEATHER_CODE_MORNING    365 non-null    float64\n",
            " 16  WEATHER_CODE_NOON       365 non-null    float64\n",
            " 17  WEATHER_CODE_EVENING    730 non-null    float64\n",
            " 18  TOTAL_SNOW_MM           730 non-null    float64\n",
            " 19  UV_INDEX                730 non-null    float64\n",
            " 20  SUNHOUR                 730 non-null    float64\n",
            " 21  OPINION                 730 non-null    object \n",
            " 22  MONTH                   730 non-null    object \n",
            " 23  DAY                     730 non-null    object \n",
            " 24  flag                    365 non-null    object \n",
            "dtypes: float64(9), int64(11), object(5)\n",
            "memory usage: 148.3+ KB\n"
          ],
          "name": "stdout"
        }
      ]
    },
    {
      "cell_type": "markdown",
      "metadata": {
        "id": "aFn3I9AT8gXo",
        "colab_type": "text"
      },
      "source": [
        "## Add a Year Column"
      ]
    },
    {
      "cell_type": "code",
      "metadata": {
        "id": "Na7_cauh8juj",
        "colab_type": "code",
        "outputId": "5453453e-ac66-4dd5-d7d1-4597fb7a2bf0",
        "colab": {
          "base_uri": "https://localhost:8080/",
          "height": 236
        }
      },
      "source": [
        "# Hop !\n",
        "final[\"Year\"]=final[\"DATE\"].apply(lambda x:x[0:4])\n",
        "final[\"Year\"]"
      ],
      "execution_count": 0,
      "outputs": [
        {
          "output_type": "execute_result",
          "data": {
            "text/plain": [
              "0      2019\n",
              "1      2019\n",
              "2      2019\n",
              "3      2019\n",
              "4      2019\n",
              "       ... \n",
              "360    2018\n",
              "361    2018\n",
              "362    2018\n",
              "363    2018\n",
              "364    2018\n",
              "Name: Year, Length: 730, dtype: object"
            ]
          },
          "metadata": {
            "tags": []
          },
          "execution_count": 433
        }
      ]
    },
    {
      "cell_type": "markdown",
      "metadata": {
        "id": "l6PP_IIMIed4",
        "colab_type": "text"
      },
      "source": [
        "# Draw 4 charts to compare 2018 and 2019 :\n",
        "- Histogram for the Windspeed\n",
        "- Boxplots for the Precipitation\n",
        "- Scaterplots for Sunhour and Date\n",
        "- Violin plots for Max Temperature\n",
        "\n",
        "On each chart, we could read if 2018 and 2019 are different or similar, so use color !"
      ]
    },
    {
      "cell_type": "code",
      "metadata": {
        "id": "BdZEPt-MMPsW",
        "colab_type": "code",
        "outputId": "90d38386-183c-4ea0-c827-62c024e3ab35",
        "colab": {
          "base_uri": "https://localhost:8080/",
          "height": 366
        }
      },
      "source": [
        "# Hop !\n",
        "import seaborn as sns\n",
        "import matplotlib.pyplot as plt\n",
        "import numpy as np\n",
        "\n",
        "c=final.groupby(['Year','MONTH']).mean()\n",
        "c.loc[['2018'],'WINDSPEED_MAX_KMH']\n",
        "x = np.arange(12)\n",
        "width = 0.35\n",
        "fig, ax = plt.subplots(figsize=(20,5))\n",
        "rects1 = ax.bar(x - width/2, c.loc[['2018'],'WINDSPEED_MAX_KMH'],width, label='2019',color='b')\n",
        "rects2 = ax.bar(x + width/2, c.loc[['2019'],'WINDSPEED_MAX_KMH'],width,label='2018', color='lime')\n",
        "ax.set_ylabel('WINDSPEED_MAX_KMH')\n",
        "ax.set_title('Moyennes mensuelles vitesse du vent 2018/2019')\n",
        "ax.set_xlabel('MOIS')\n",
        "#ax.set_xticks('Jan','Feb','Ma','Av','Mai','Ju','Jui','Aout','Sep','Oct','nov','dec')\n",
        "#ax.set_xticklabels(labels)\n",
        "ax.legend()\n"
      ],
      "execution_count": 0,
      "outputs": [
        {
          "output_type": "execute_result",
          "data": {
            "text/plain": [
              "<matplotlib.legend.Legend at 0x7f4ad7417a58>"
            ]
          },
          "metadata": {
            "tags": []
          },
          "execution_count": 434
        },
        {
          "output_type": "display_data",
          "data": {
            "image/png": "[encoded data removed]",
            "text/plain": [
              "<Figure size 1440x360 with 1 Axes>"
            ]
          },
          "metadata": {
            "tags": [],
            "needs_background": "light"
          }
        }
      ]
    },
    {
      "cell_type": "code",
      "metadata": {
        "id": "voFy7CS5lxmQ",
        "colab_type": "code",
        "outputId": "083edae7-cef9-471e-e296-83d76b861b8b",
        "colab": {
          "base_uri": "https://localhost:8080/",
          "height": 286
        }
      },
      "source": [
        "prec_mensuel=final.groupby(['Year','MONTH']).mean()\n",
        "box_plot_data=[prec_mensuel.loc[['2018'],\"PRECIP_TOTAL_DAY_MM\"],prec_mensuel.loc[['2019'],\"PRECIP_TOTAL_DAY_MM\"]]\n",
        "plt.boxplot(box_plot_data,patch_artist=True,labels=['2018','2019'])\n",
        "#plt.title('axes title')\n",
        "plt.ylabel('PRECIP_TOTAL(Moyenne mensuelle)')\n",
        "plt.show()\n"
      ],
      "execution_count": 0,
      "outputs": [
        {
          "output_type": "display_data",
          "data": {
            "image/png": "[encoded data removed]",
            "text/plain": [
              "<Figure size 432x288 with 1 Axes>"
            ]
          },
          "metadata": {
            "tags": [],
            "needs_background": "light"
          }
        }
      ]
    },
    {
      "cell_type": "code",
      "metadata": {
        "id": "Mr9GoZYYrHJM",
        "colab_type": "code",
        "outputId": "9bc96023-8a97-4919-bf23-813f6e9ffbdb",
        "colab": {
          "base_uri": "https://localhost:8080/",
          "height": 302
        }
      },
      "source": [
        "Sun_Date=final.groupby(['Year','MONTH']).mean()\n",
        "x=[\"Jan\", \"Fev\", \"Mars\", \"Av\", \"Mai\", \"Ju\", \"Jui\", \"Aout\", \"Sep\", \"Oct\", \"Nov\", \"Dec\"]\n",
        "sns.scatterplot(x,y=Sun_Date.loc[['2018'],\"SUNHOUR\"])\n",
        "sns.scatterplot(x,y=Sun_Date.loc[['2019'],\"SUNHOUR\"])"
      ],
      "execution_count": 0,
      "outputs": [
        {
          "output_type": "execute_result",
          "data": {
            "text/plain": [
              "<matplotlib.axes._subplots.AxesSubplot at 0x7f4ad79bb208>"
            ]
          },
          "metadata": {
            "tags": []
          },
          "execution_count": 436
        },
        {
          "output_type": "display_data",
          "data": {
            "image/png": "[encoded data removed]",
            "text/plain": [
              "<Figure size 432x288 with 1 Axes>"
            ]
          },
          "metadata": {
            "tags": [],
            "needs_background": "light"
          }
        }
      ]
    },
    {
      "cell_type": "code",
      "metadata": {
        "id": "KBm2EAejt2DO",
        "colab_type": "code",
        "outputId": "63188aad-9191-4719-80c1-3c78bf21f5fb",
        "colab": {
          "base_uri": "https://localhost:8080/",
          "height": 300
        }
      },
      "source": [
        " ax = sns.violinplot(x=final[\"MAX_TEMPERATURE_C\"])"
      ],
      "execution_count": 0,
      "outputs": [
        {
          "output_type": "display_data",
          "data": {
            "image/png": "[encoded data removed]",
            "text/plain": [
              "<Figure size 432x288 with 1 Axes>"
            ]
          },
          "metadata": {
            "tags": [],
            "needs_background": "light"
          }
        }
      ]
    }
  ]
}