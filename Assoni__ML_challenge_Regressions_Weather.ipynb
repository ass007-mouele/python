{
  "nbformat": 4,
  "nbformat_minor": 0,
  "metadata": {
    "colab": {
      "name": "Assoni_ ML - challenge - Regressions - Weather.ipynb",
      "provenance": [],
      "collapsed_sections": [],
      "include_colab_link": true
    },
    "kernelspec": {
      "name": "python3",
      "display_name": "Python 3"
    }
  },
  "cells": [
    {
      "cell_type": "markdown",
      "metadata": {
        "id": "view-in-github",
        "colab_type": "text"
      },
      "source": [
        "<a href=\"https://colab.research.google.com/github/ass007-mouele/python/blob/master/Assoni__ML_challenge_Regressions_Weather.ipynb\" target=\"_parent\"><img src=\"https://colab.research.google.com/assets/colab-badge.svg\" alt=\"Open In Colab\"/></a>"
      ]
    },
    {
      "cell_type": "markdown",
      "metadata": {
        "id": "HOwQ62ZHNfoL",
        "colab_type": "text"
      },
      "source": [
        "# Execute the code below"
      ]
    },
    {
      "cell_type": "code",
      "metadata": {
        "id": "cQtq-iEuNTCE",
        "colab_type": "code",
        "outputId": "97423842-f335-40d0-e01d-cca44a19d80e",
        "colab": {
          "base_uri": "https://localhost:8080/",
          "height": 269
        }
      },
      "source": [
        "import pandas as pd\n",
        "import numpy as np\n",
        "link_main = \"https://raw.githubusercontent.com/murpi/wilddata/master/quests/weather_main_2018.csv\"\n",
        "link_opinion = \"https://raw.githubusercontent.com/murpi/wilddata/master/quests/weather_opinion_2018.csv\"\n",
        "df_main = pd.read_csv(link_main)\n",
        "df_opinion = pd.read_csv(link_opinion)\n",
        "print(df_main.head())\n",
        "print(df_opinion.head())"
      ],
      "execution_count": 0,
      "outputs": [
        {
          "output_type": "stream",
          "text": [
            "         DATE  MAX_TEMPERATURE_C  ...  DEWPOINT_MAX_C  WINDTEMP_MAX_C\n",
            "0  2018-01-01                 12  ...               8               7\n",
            "1  2018-01-02                 13  ...              12               6\n",
            "2  2018-01-03                 15  ...              13               7\n",
            "3  2018-01-04                 14  ...              12              10\n",
            "4  2018-01-05                 12  ...              10               7\n",
            "\n",
            "[5 rows x 15 columns]\n",
            "         date  WEATHER_CODE_EVENING  TOTAL_SNOW_MM  UV_INDEX  SUNHOUR OPINION\n",
            "0  2018-01-01                   113              0         3      5.1     bad\n",
            "1  2018-03-12                   119              0         2      8.8     bad\n",
            "2  2018-03-09                   116              0         3     10.2     bad\n",
            "3  2018-10-07                   122              0         1      5.6     bad\n",
            "4  2018-06-18                   119              0         1     12.9     bad\n"
          ],
          "name": "stdout"
        }
      ]
    },
    {
      "cell_type": "markdown",
      "metadata": {
        "id": "ys4dNAEWNuQi",
        "colab_type": "text"
      },
      "source": [
        "# Merge\n",
        "First of all, you have to merge both DataFrames to have a bien \"df2018\" DataFrame with 365 rows and 20 columns (indeed, you can drop the date column in double).\n",
        "\n"
      ]
    },
    {
      "cell_type": "code",
      "metadata": {
        "id": "n2d3_LJUOTWP",
        "colab_type": "code",
        "outputId": "aad78c82-2b9f-4a87-f35b-f87cdac54e5f",
        "colab": {
          "base_uri": "https://localhost:8080/",
          "height": 484
        }
      },
      "source": [
        "# Your code here :\n",
        "#df2018=pd.concat([df_main,df_opinion],join=\"outer\",axis=1)\n",
        "df2018=pd.merge(df_main, df_opinion, how = 'left',left_on = ['DATE'], right_on = ['date'])\n",
        "df2018.drop(columns='date',inplace=True)\n",
        "df2018.info()"
      ],
      "execution_count": 0,
      "outputs": [
        {
          "output_type": "stream",
          "text": [
            "<class 'pandas.core.frame.DataFrame'>\n",
            "Int64Index: 365 entries, 0 to 364\n",
            "Data columns (total 20 columns):\n",
            " #   Column                  Non-Null Count  Dtype  \n",
            "---  ------                  --------------  -----  \n",
            " 0   DATE                    365 non-null    object \n",
            " 1   MAX_TEMPERATURE_C       365 non-null    int64  \n",
            " 2   MIN_TEMPERATURE_C       365 non-null    int64  \n",
            " 3   WINDSPEED_MAX_KMH       365 non-null    int64  \n",
            " 4   TEMPERATURE_MORNING_C   365 non-null    int64  \n",
            " 5   TEMPERATURE_NOON_C      365 non-null    int64  \n",
            " 6   TEMPERATURE_EVENING_C   365 non-null    int64  \n",
            " 7   PRECIP_TOTAL_DAY_MM     365 non-null    float64\n",
            " 8   HUMIDITY_MAX_PERCENT    365 non-null    int64  \n",
            " 9   VISIBILITY_AVG_KM       365 non-null    float64\n",
            " 10  PRESSURE_MAX_MB         365 non-null    int64  \n",
            " 11  CLOUDCOVER_AVG_PERCENT  365 non-null    float64\n",
            " 12  HEATINDEX_MAX_C         365 non-null    int64  \n",
            " 13  DEWPOINT_MAX_C          365 non-null    int64  \n",
            " 14  WINDTEMP_MAX_C          365 non-null    int64  \n",
            " 15  WEATHER_CODE_EVENING    341 non-null    float64\n",
            " 16  TOTAL_SNOW_MM           341 non-null    float64\n",
            " 17  UV_INDEX                341 non-null    float64\n",
            " 18  SUNHOUR                 341 non-null    float64\n",
            " 19  OPINION                 341 non-null    object \n",
            "dtypes: float64(7), int64(11), object(2)\n",
            "memory usage: 59.9+ KB\n"
          ],
          "name": "stdout"
        }
      ]
    },
    {
      "cell_type": "markdown",
      "metadata": {
        "id": "QAGXuKFWOVQo",
        "colab_type": "text"
      },
      "source": [
        "# Linear regresssion\n",
        "There are some missing values in the \"Sunhour\" column, and you want to fill them.\n",
        "\n",
        "First, you have to split the DataFrame to have :\n",
        "- a DF with only rows without NaN, you'll call it \"df_clean\"\n",
        "- a DF with only rows with NaN in the Sunhour column (The rows you want to fill), you'll call it \"df_nan\"\n"
      ]
    },
    {
      "cell_type": "code",
      "metadata": {
        "id": "5zSWb0_ZPOmr",
        "colab_type": "code",
        "outputId": "675415cd-e3e6-449f-fb1f-9c932c917a0a",
        "colab": {
          "base_uri": "https://localhost:8080/",
          "height": 715
        }
      },
      "source": [
        "# Your code here :\n",
        "df2018.isna().sum()\n",
        "df_clean=df2018.loc[df2018['SUNHOUR'].isna()==False,:]\n",
        "df_nan=df2018.loc[df2018['SUNHOUR'].isna()==True,:]\n",
        "print(df_clean)\n",
        "print(df_nan)"
      ],
      "execution_count": 0,
      "outputs": [
        {
          "output_type": "stream",
          "text": [
            "           DATE  MAX_TEMPERATURE_C  ...  SUNHOUR   OPINION\n",
            "0    2018-01-01                 12  ...      5.1       bad\n",
            "1    2018-01-02                 13  ...      3.3       bad\n",
            "2    2018-01-03                 15  ...      3.3       bad\n",
            "3    2018-01-04                 14  ...      3.3       bad\n",
            "4    2018-01-05                 12  ...      6.9       bad\n",
            "..          ...                ...  ...      ...       ...\n",
            "360  2018-12-27                  7  ...      8.7  very bad\n",
            "361  2018-12-28                  7  ...      8.7  very bad\n",
            "362  2018-12-29                  7  ...      8.7  very bad\n",
            "363  2018-12-30                  9  ...      3.3  very bad\n",
            "364  2018-12-31                  9  ...      8.7  very bad\n",
            "\n",
            "[341 rows x 20 columns]\n",
            "           DATE  MAX_TEMPERATURE_C  ...  SUNHOUR  OPINION\n",
            "18   2018-01-19                 10  ...      NaN      NaN\n",
            "31   2018-02-01                  8  ...      NaN      NaN\n",
            "66   2018-03-08                 13  ...      NaN      NaN\n",
            "100  2018-04-11                 15  ...      NaN      NaN\n",
            "118  2018-04-29                 10  ...      NaN      NaN\n",
            "143  2018-05-24                 23  ...      NaN      NaN\n",
            "152  2018-06-02                 23  ...      NaN      NaN\n",
            "163  2018-06-13                 20  ...      NaN      NaN\n",
            "165  2018-06-15                 19  ...      NaN      NaN\n",
            "175  2018-06-25                 25  ...      NaN      NaN\n",
            "184  2018-07-04                 25  ...      NaN      NaN\n",
            "191  2018-07-11                 23  ...      NaN      NaN\n",
            "194  2018-07-14                 28  ...      NaN      NaN\n",
            "197  2018-07-17                 23  ...      NaN      NaN\n",
            "204  2018-07-24                 29  ...      NaN      NaN\n",
            "220  2018-08-09                 20  ...      NaN      NaN\n",
            "225  2018-08-14                 23  ...      NaN      NaN\n",
            "234  2018-08-23                 23  ...      NaN      NaN\n",
            "266  2018-09-24                 18  ...      NaN      NaN\n",
            "317  2018-11-14                 15  ...      NaN      NaN\n",
            "321  2018-11-18                  9  ...      NaN      NaN\n",
            "325  2018-11-22                 12  ...      NaN      NaN\n",
            "346  2018-12-13                  3  ...      NaN      NaN\n",
            "349  2018-12-16                 12  ...      NaN      NaN\n",
            "\n",
            "[24 rows x 20 columns]\n"
          ],
          "name": "stdout"
        }
      ]
    },
    {
      "cell_type": "markdown",
      "metadata": {
        "id": "WaI6fXfrPQTQ",
        "colab_type": "text"
      },
      "source": [
        "## Now, train your model\n",
        "With scikit-learn, find the multivariate linear regression model with the best score (remember to train-test-split your DataFrame \"df_clean\" before!).\n",
        "\n",
        "Print the R2-score for the test set."
      ]
    },
    {
      "cell_type": "code",
      "metadata": {
        "id": "RYg2aiBnPmQO",
        "colab_type": "code",
        "outputId": "8871af3f-442a-4065-aac1-0c69a85b9472",
        "colab": {
          "base_uri": "https://localhost:8080/",
          "height": 54
        }
      },
      "source": [
        "# Your code here\n",
        "from sklearn.linear_model import LinearRegression\n",
        "from sklearn.model_selection import train_test_split\n",
        "import seaborn as sns\n",
        "import matplotlib.pyplot as plt\n",
        "\n",
        "X = df_clean[['HEATINDEX_MAX_C','HUMIDITY_MAX_PERCENT']]\n",
        "y = df_clean['SUNHOUR']\n",
        "\n",
        "X_train, X_test, y_train, y_test = train_test_split(X, y, random_state=42, train_size = 0.75)#,  shuffle = False)\n",
        "model= LinearRegression().fit(X_train, y_train)\n",
        "model.score(X, y)\n"
      ],
      "execution_count": 0,
      "outputs": [
        {
          "output_type": "execute_result",
          "data": {
            "text/plain": [
              "0.5068142481449851"
            ]
          },
          "metadata": {
            "tags": []
          },
          "execution_count": 98
        }
      ]
    },
    {
      "cell_type": "markdown",
      "metadata": {
        "id": "c8oMykbkPnln",
        "colab_type": "text"
      },
      "source": [
        "## Predictions\n",
        "Predict the sunhours values for your DF \"df_nan\"."
      ]
    },
    {
      "cell_type": "code",
      "metadata": {
        "id": "C9v8hZkDQQeC",
        "colab_type": "code",
        "outputId": "45a9ebaa-cdd3-41d0-f5a6-ea8480f6a705",
        "colab": {
          "base_uri": "https://localhost:8080/",
          "height": 137
        }
      },
      "source": [
        "# Your code here :\n",
        "X=df_nan[['HEATINDEX_MAX_C','HUMIDITY_MAX_PERCENT']]\n",
        "df_nan['SUNHOUR']=model.predict(X)\n"
      ],
      "execution_count": 0,
      "outputs": [
        {
          "output_type": "stream",
          "text": [
            "/usr/local/lib/python3.6/dist-packages/ipykernel_launcher.py:2: SettingWithCopyWarning: \n",
            "A value is trying to be set on a copy of a slice from a DataFrame.\n",
            "Try using .loc[row_indexer,col_indexer] = value instead\n",
            "\n",
            "See the caveats in the documentation: https://pandas.pydata.org/pandas-docs/stable/user_guide/indexing.html#returning-a-view-versus-a-copy\n",
            "  \n"
          ],
          "name": "stderr"
        }
      ]
    },
    {
      "cell_type": "markdown",
      "metadata": {
        "id": "HTBZvFyIQhHo",
        "colab_type": "text"
      },
      "source": [
        "## Concatenate and scatterplot\n",
        "\n",
        "Concatenate both DataFrames to a new one \"df2018complete\", and draw a scatterplot with Date on X-axis and Sunhours on Y-axis."
      ]
    },
    {
      "cell_type": "code",
      "metadata": {
        "id": "35B7SggmQy_C",
        "colab_type": "code",
        "outputId": "d10be29f-0da7-43c0-fe24-552c200fd54f",
        "colab": {
          "base_uri": "https://localhost:8080/",
          "height": 506
        }
      },
      "source": [
        "# Your code here\n",
        "df2018complete=pd.merge(df_clean,df_nan,how='outer',sort=True)\n",
        "fig = plt.figure(figsize = (22, 8))\n",
        "plt.xticks(range(0, 365, 5), rotation = 90)\n",
        "sns.scatterplot(df2018complete[\"DATE\"],df2018complete[\"SUNHOUR\"])"
      ],
      "execution_count": 0,
      "outputs": [
        {
          "output_type": "execute_result",
          "data": {
            "text/plain": [
              "<matplotlib.axes._subplots.AxesSubplot at 0x7f3d83e9f748>"
            ]
          },
          "metadata": {
            "tags": []
          },
          "execution_count": 97
        },
        {
          "output_type": "display_data",
          "data": {
            "image/png": "[encoded data removed]",
            "text/plain": [
              "<Figure size 1584x576 with 1 Axes>"
            ]
          },
          "metadata": {
            "tags": [],
            "needs_background": "light"
          }
        }
      ]
    },
    {
      "cell_type": "code",
      "metadata": {
        "id": "XvEBqsrV1SdI",
        "colab_type": "code",
        "outputId": "2b031399-7876-401a-c96a-5d6d55fa5e77",
        "colab": {
          "base_uri": "https://localhost:8080/",
          "height": 484
        }
      },
      "source": [
        "df2018complete.info()"
      ],
      "execution_count": 0,
      "outputs": [
        {
          "output_type": "stream",
          "text": [
            "<class 'pandas.core.frame.DataFrame'>\n",
            "Int64Index: 365 entries, 0 to 364\n",
            "Data columns (total 20 columns):\n",
            " #   Column                  Non-Null Count  Dtype  \n",
            "---  ------                  --------------  -----  \n",
            " 0   DATE                    365 non-null    object \n",
            " 1   MAX_TEMPERATURE_C       365 non-null    int64  \n",
            " 2   MIN_TEMPERATURE_C       365 non-null    int64  \n",
            " 3   WINDSPEED_MAX_KMH       365 non-null    int64  \n",
            " 4   TEMPERATURE_MORNING_C   365 non-null    int64  \n",
            " 5   TEMPERATURE_NOON_C      365 non-null    int64  \n",
            " 6   TEMPERATURE_EVENING_C   365 non-null    int64  \n",
            " 7   PRECIP_TOTAL_DAY_MM     365 non-null    float64\n",
            " 8   HUMIDITY_MAX_PERCENT    365 non-null    int64  \n",
            " 9   VISIBILITY_AVG_KM       365 non-null    float64\n",
            " 10  PRESSURE_MAX_MB         365 non-null    int64  \n",
            " 11  CLOUDCOVER_AVG_PERCENT  365 non-null    float64\n",
            " 12  HEATINDEX_MAX_C         365 non-null    int64  \n",
            " 13  DEWPOINT_MAX_C          365 non-null    int64  \n",
            " 14  WINDTEMP_MAX_C          365 non-null    int64  \n",
            " 15  WEATHER_CODE_EVENING    341 non-null    float64\n",
            " 16  TOTAL_SNOW_MM           341 non-null    float64\n",
            " 17  UV_INDEX                341 non-null    float64\n",
            " 18  SUNHOUR                 365 non-null    float64\n",
            " 19  OPINION                 341 non-null    object \n",
            "dtypes: float64(7), int64(11), object(2)\n",
            "memory usage: 59.9+ KB\n"
          ],
          "name": "stdout"
        }
      ]
    }
  ]
}