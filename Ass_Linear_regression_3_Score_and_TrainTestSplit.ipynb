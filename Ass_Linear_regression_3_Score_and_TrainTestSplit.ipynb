{
  "nbformat": 4,
  "nbformat_minor": 0,
  "metadata": {
    "colab": {
      "name": "Ass_Linear regression - 3 - Score and TrainTestSplit.ipynb",
      "provenance": [],
      "collapsed_sections": [
        "7RZbCjBZBNKL",
        "HDfmi_gNBRd3",
        "1frFHshijXUK",
        "652oRHFcwI0H"
      ],
      "include_colab_link": true
    },
    "kernelspec": {
      "name": "python3",
      "display_name": "Python 3"
    }
  },
  "cells": [
    {
      "cell_type": "markdown",
      "metadata": {
        "id": "view-in-github",
        "colab_type": "text"
      },
      "source": [
        "<a href=\"https://colab.research.google.com/github/ass007-mouele/python/blob/master/Ass_Linear_regression_3_Score_and_TrainTestSplit.ipynb\" target=\"_parent\"><img src=\"https://colab.research.google.com/assets/colab-badge.svg\" alt=\"Open In Colab\"/></a>"
      ]
    },
    {
      "cell_type": "markdown",
      "metadata": {
        "id": "7RZbCjBZBNKL",
        "colab_type": "text"
      },
      "source": [
        "# Execute the code below"
      ]
    },
    {
      "cell_type": "code",
      "metadata": {
        "id": "ih5VsCSsAGWK",
        "colab_type": "code",
        "colab": {}
      },
      "source": [
        "import matplotlib.pyplot as plt\n",
        "import pandas as pd\n",
        "import numpy as np\n",
        "import seaborn as sns\n",
        "import plotly.express as px\n",
        "from sklearn.linear_model import LinearRegression\n",
        "link = \"https://raw.githubusercontent.com/murpi/wilddata/master/quests/weather2019.csv\"\n",
        "df_weather = pd.read_csv(link)"
      ],
      "execution_count": 0,
      "outputs": []
    },
    {
      "cell_type": "markdown",
      "metadata": {
        "id": "HDfmi_gNBRd3",
        "colab_type": "text"
      },
      "source": [
        "# Scoring\n",
        "Last time, you did a multivariate linear regression. But how can you be sure this multivariate linear regression is better than an univariate ? You have to measure it !\n"
      ]
    },
    {
      "cell_type": "markdown",
      "metadata": {
        "id": "gs0tr5sYgvwI",
        "colab_type": "text"
      },
      "source": [
        "## First regression\n",
        "Let's begin with a first linear regression : create a new column 'predict_from_sun' whith the prediction of MAX temperature from the SUNHOUR variable."
      ]
    },
    {
      "cell_type": "code",
      "metadata": {
        "id": "h0u82y2paa75",
        "colab_type": "code",
        "outputId": "1ee2e20c-d5e2-4192-a780-62c9bfa7578b",
        "colab": {
          "base_uri": "https://localhost:8080/",
          "height": 236
        }
      },
      "source": [
        "# Your code here :\n",
        "X = df_weather[['SUNHOUR']]\n",
        "y = df_weather['MAX_TEMPERATURE_C']\n",
        "model_from_sun = LinearRegression().fit(X, y)\n",
        "df_weather[ 'predict_from_sun']=model_from_sun.predict(X)\n",
        "df_weather[ 'predict_from_sun']\n"
      ],
      "execution_count": 0,
      "outputs": [
        {
          "output_type": "execute_result",
          "data": {
            "text/plain": [
              "0      11.396823\n",
              "1      16.020019\n",
              "2      16.020019\n",
              "3      11.396823\n",
              "4      16.020019\n",
              "         ...    \n",
              "360    16.020019\n",
              "361    13.708421\n",
              "362    16.020019\n",
              "363    16.020019\n",
              "364    16.020019\n",
              "Name: predict_from_sun, Length: 365, dtype: float64"
            ]
          },
          "metadata": {
            "tags": []
          },
          "execution_count": 18
        }
      ]
    },
    {
      "cell_type": "markdown",
      "metadata": {
        "id": "vaSRoaFdgu23",
        "colab_type": "text"
      },
      "source": [
        "## R2 score\n",
        "The best possible R2 score is '1', when our prediction predicts perfectly the reality. Let's see what is our R2 score :"
      ]
    },
    {
      "cell_type": "code",
      "metadata": {
        "id": "bhI2x_Z-g-lM",
        "colab_type": "code",
        "outputId": "b15bd887-0b3d-4e4c-a4b9-fd44a78f774e",
        "colab": {
          "base_uri": "https://localhost:8080/",
          "height": 54
        }
      },
      "source": [
        "# Change the name of the model if it's necessary\n",
        "model_from_sun.score(X, y)"
      ],
      "execution_count": 0,
      "outputs": [
        {
          "output_type": "execute_result",
          "data": {
            "text/plain": [
              "0.47654554059087306"
            ]
          },
          "metadata": {
            "tags": []
          },
          "execution_count": 19
        }
      ]
    },
    {
      "cell_type": "markdown",
      "metadata": {
        "id": "OPYPIs6kgWq2",
        "colab_type": "text"
      },
      "source": [
        "## Let's continue with 2 others regressions\n",
        "- Second regression : create a new column 'predict_from_min' whith the prediction of MAX temperature from the MIN temperature variable\n",
        "- Third regression : create a new column 'predict_from_both' whith the prediction of MAX temperature from the both variables (MIN temperature and Sunhours)"
      ]
    },
    {
      "cell_type": "code",
      "metadata": {
        "id": "0uWGISfxiGN_",
        "colab_type": "code",
        "colab": {}
      },
      "source": [
        "# Your code here :\n",
        "X1 = df_weather[['MIN_TEMPERATURE_C']]\n",
        "y1 = df_weather['MAX_TEMPERATURE_C']\n",
        "model_from_min=LinearRegression().fit(X1, y1)\n",
        "df_weather['predict_from_min']=model_from_min.predict(X1)\n",
        "\n",
        "############\n",
        "X2 = df_weather[['MIN_TEMPERATURE_C','SUNHOUR']]\n",
        "y2 = df_weather['MAX_TEMPERATURE_C']\n",
        "model_from_both=LinearRegression().fit(X2, y2)\n",
        "df_weather['predict_from_both']=model_from_both.predict(X2)\n"
      ],
      "execution_count": 0,
      "outputs": []
    },
    {
      "cell_type": "markdown",
      "metadata": {
        "id": "eYVUuG97h0HO",
        "colab_type": "text"
      },
      "source": [
        "## Calculate the R2 score of the 2 new predictions\n",
        "Which model has the best score ? Do you think it's logic ?"
      ]
    },
    {
      "cell_type": "code",
      "metadata": {
        "id": "7lQObVxpe6uh",
        "colab_type": "code",
        "outputId": "769983dc-452a-4019-9301-d11dfce70d5e",
        "colab": {
          "base_uri": "https://localhost:8080/",
          "height": 71
        }
      },
      "source": [
        "# Your code here :\n",
        "print(model_from_min.score(X1, y1))\n",
        "print(model_from_both.score(X2, y2))"
      ],
      "execution_count": 0,
      "outputs": [
        {
          "output_type": "stream",
          "text": [
            "0.7689396999057355\n",
            "0.867478798077497\n"
          ],
          "name": "stdout"
        }
      ]
    },
    {
      "cell_type": "markdown",
      "metadata": {
        "id": "1frFHshijXUK",
        "colab_type": "text"
      },
      "source": [
        "# Train Test Split\n",
        "Biggest problem of Machine learning is : the machine can sometimes learn the examples, get a very good score, but this score is just a good memory.\n",
        "\n",
        "For example, if you memorize the optician test, you can get a very good score... but do you have a good vision ?\n",
        "In machine learning, we call this : **overfitting**.\n",
        "\n",
        "\n",
        "![Optician](https://www.edwardsmidsomer.co.uk/wp-content/uploads/2018/02/2018-02-12_144357.png)"
      ]
    },
    {
      "cell_type": "markdown",
      "metadata": {
        "id": "4UCz7M7vknsY",
        "colab_type": "text"
      },
      "source": [
        "To be sure that machine didn't memorize the result, we use the Train Test Split methodology. We keep some data separate (often 25% of our initial dataset). Then we train our model on the 75% (the \"Train set\"). \n",
        "After, we can calculate a score on the \"Test set\".\n",
        "\n",
        "Let's do that !"
      ]
    },
    {
      "cell_type": "code",
      "metadata": {
        "id": "EKIttez3pFou",
        "colab_type": "code",
        "outputId": "c67f6f7b-a5f9-4ec7-820d-da06342e7041",
        "colab": {
          "base_uri": "https://localhost:8080/",
          "height": 137
        }
      },
      "source": [
        "# Juste read and execute the code below\n",
        "from sklearn.model_selection import train_test_split\n",
        "\n",
        "X = df_weather[['SUNHOUR']]\n",
        "y = df_weather['MAX_TEMPERATURE_C']\n",
        "\n",
        "# Here, we split our 2 datasets (the variables \"X\" and the target \"y\") into 4 datasets X and y for the train set and X and y for the test set.\n",
        "# We set the size of the train set to 75%. And the rest is for the test set.\n",
        "X_train, X_test, y_train, y_test = train_test_split(X, y, random_state=42, train_size = 0.75)\n",
        "print(\"The lenght of the initial dataset is :\", len(X))\n",
        "print(\"The lenght of the train dataset is   :\", len(X_train))\n",
        "print(\"The lenght of the test dataset is    :\", len(X_test))\n",
        "\n",
        "# Here we train the model only on the train dataset.\n",
        "newmodel = LinearRegression().fit(X_train, y_train)\n",
        "\n",
        "# And now we compare both scores :\n",
        "print(\"\\nScore for the Train dataset :\", newmodel.score(X_train, y_train))\n",
        "print(\"Score for the Test dataset :\", newmodel.score(X_test, y_test))\n"
      ],
      "execution_count": 0,
      "outputs": [
        {
          "output_type": "stream",
          "text": [
            "The lenght of the initial dataset is : 365\n",
            "The lenght of the train dataset is   : 273\n",
            "The lenght of the test dataset is    : 92\n",
            "\n",
            "Score for the Train dataset : 0.47243569075679914\n",
            "Score for the Test dataset : 0.4749360350733982\n"
          ],
          "name": "stdout"
        }
      ]
    },
    {
      "cell_type": "markdown",
      "metadata": {
        "id": "xwetw4TfsHEJ",
        "colab_type": "text"
      },
      "source": [
        "## Both scores are very close, there is no overfitting, well done !\n",
        "\n",
        "What happens if we don't randomize our dataset. Here, the model learns only on the 9 first months."
      ]
    },
    {
      "cell_type": "code",
      "metadata": {
        "id": "xsusD6mEuE36",
        "colab_type": "code",
        "outputId": "86bf8e8c-2b0b-4ee4-ef62-55a20a33d5c2",
        "colab": {
          "base_uri": "https://localhost:8080/",
          "height": 87
        }
      },
      "source": [
        "# Juste read and execute the code below\n",
        "from sklearn.model_selection import train_test_split\n",
        "\n",
        "X = df_weather[['MIN_TEMPERATURE_C']]\n",
        "y = df_weather['MAX_TEMPERATURE_C']\n",
        "\n",
        "# We set the size of the train set to 75%. And the rest is for the test set.\n",
        "# We set the split NOT in random.\n",
        "X_train, X_test, y_train, y_test = train_test_split(X, y, train_size = 0.75,  shuffle = False)\n",
        "\n",
        "\n",
        "# Here we train the model only on the train dataset.\n",
        "newmodel = LinearRegression().fit(X_train, y_train)\n",
        "\n",
        "# And now we compare both scores :\n",
        "print(\"\\nScore for the Train dataset :\", newmodel.score(X_train, y_train))\n",
        "print(\"Score for the Test dataset :\", newmodel.score(X_test, y_test))"
      ],
      "execution_count": 0,
      "outputs": [
        {
          "output_type": "stream",
          "text": [
            "\n",
            "Score for the Train dataset : 0.7875765302008688\n",
            "Score for the Test dataset : 0.03610833322378593\n"
          ],
          "name": "stdout"
        }
      ]
    },
    {
      "cell_type": "markdown",
      "metadata": {
        "id": "2vrIsw55vNM6",
        "colab_type": "text"
      },
      "source": [
        "## There is an overfitting ! \n",
        "Indeed, the model get a good score on the Train dataset, because he learned in winter / spring / summer datas. But he get a bad score in Falls..."
      ]
    },
    {
      "cell_type": "markdown",
      "metadata": {
        "id": "652oRHFcwI0H",
        "colab_type": "text"
      },
      "source": [
        "# Let's play !\n",
        "Train a new model with each numeric variables (without your target of course) and try to have a better score than previously.\n",
        "\n",
        "Remember to split randomly your dataset before training your model.\n",
        "\n",
        "Display the Test score."
      ]
    },
    {
      "cell_type": "code",
      "metadata": {
        "id": "nR-dmy-LxNtZ",
        "colab_type": "code",
        "outputId": "79a1cc4a-c35f-4daf-f933-e72f4632deab",
        "colab": {
          "base_uri": "https://localhost:8080/",
          "height": 87
        }
      },
      "source": [
        "# Your code here :\n",
        "X = df_weather[['MIN_TEMPERATURE_C','HEATINDEX_MAX_C']]\n",
        "y = df_weather['MAX_TEMPERATURE_C']\n",
        "\n",
        "X_train, X_test, y_train, y_test = train_test_split(X, y, random_state=42, train_size = 0.75)\n",
        "\n",
        "mon_model=LinearRegression().fit(X_train, y_train)\n",
        "print(\"\\nScore du Train dataset :\", mon_model.score(X_train, y_train))\n",
        "print(\"Score du Test dataset :\",mon_model.score(X_test, y_test))\n"
      ],
      "execution_count": 0,
      "outputs": [
        {
          "output_type": "stream",
          "text": [
            "\n",
            "Score du Train dataset : 0.9846871688285315\n",
            "Score du Test dataset : 0.9911785336197755\n"
          ],
          "name": "stdout"
        }
      ]
    }
  ]
}